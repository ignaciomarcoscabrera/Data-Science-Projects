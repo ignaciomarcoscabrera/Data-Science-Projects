{
 "cells": [
  {
   "cell_type": "code",
   "execution_count": 8,
   "id": "6ee14ed0-40cb-41b1-afef-6a262ec8e04d",
   "metadata": {},
   "outputs": [],
   "source": [
    "# Import necessary packages\n",
    "import pandas as pd\n",
    "import numpy as np\n"
   ]
  },
  {
   "cell_type": "markdown",
   "id": "0840b883",
   "metadata": {},
   "source": [
    "### Import the different files and merge all together in one dataframe"
   ]
  },
  {
   "cell_type": "code",
   "execution_count": 9,
   "id": "3b7f45fa",
   "metadata": {},
   "outputs": [],
   "source": [
    "# Import CSV for prices\n",
    "airbnb_price = pd.read_csv('airbnb_price.csv')\n",
    "\n",
    "# Import Excel file for room types\n",
    "airbnb_room_type = pd.read_excel('airbnb_room_type.xlsx')\n",
    "\n",
    "# Import TSV for review dates\n",
    "airbnb_last_review = pd.read_csv('airbnb_last_review.tsv', sep='\\t')\n",
    "\n",
    "# Join the three data frames together into one\n",
    "listings = pd.merge(airbnb_price, airbnb_room_type, on='listing_id')\n",
    "listings = pd.merge(listings, airbnb_last_review, on='listing_id')\n"
   ]
  },
  {
   "cell_type": "markdown",
   "id": "9635fffe",
   "metadata": {},
   "source": [
    "### What are the dates of the earliest and most recent reviews?\n",
    "  \n"
   ]
  },
  {
   "cell_type": "code",
   "execution_count": 10,
   "id": "89c4080b",
   "metadata": {},
   "outputs": [],
   "source": [
    "# To use a function like max()/min() on last_review date column, it needs to be converted to datetime type\n",
    "listings['last_review_date'] = pd.to_datetime(listings['last_review'], format='%B %d %Y')\n",
    "first_reviewed = listings['last_review_date'].min()\n",
    "last_reviewed = listings['last_review_date'].max()\n"
   ]
  },
  {
   "cell_type": "markdown",
   "id": "9b808a29",
   "metadata": {},
   "source": [
    "### How many of the listings are private rooms?\n"
   ]
  },
  {
   "cell_type": "code",
   "execution_count": 11,
   "id": "467a6ba2",
   "metadata": {},
   "outputs": [],
   "source": [
    "\n",
    "# Since there are differences in capitalization, make capitalization consistent\n",
    "listings['room_type'] = listings['room_type'].str.lower()\n",
    "private_room_count = listings[listings['room_type'] == 'private room'].shape[0]\n"
   ]
  },
  {
   "cell_type": "markdown",
   "id": "be364a2b",
   "metadata": {},
   "source": [
    "### What is the average listing price?"
   ]
  },
  {
   "cell_type": "code",
   "execution_count": 12,
   "id": "08faffbe",
   "metadata": {},
   "outputs": [
    {
     "name": "stdout",
     "output_type": "stream",
     "text": [
      "  first_reviewed last_reviewed  nb_private_rooms  avg_price\n",
      "0     2019-01-01    2019-07-09             11356     141.78\n"
     ]
    }
   ],
   "source": [
    "\n",
    "# To convert price to numeric, remove \" dollars\" from each value\n",
    "listings['price_clean'] = listings['price'].str.replace(' dollars', '').astype(float)\n",
    "avg_price = listings['price_clean'].mean()\n",
    "\n",
    "review_dates = pd.DataFrame({\n",
    "    'first_reviewed': [first_reviewed],\n",
    "    'last_reviewed': [last_reviewed],\n",
    "    'nb_private_rooms': [private_room_count],\n",
    "    'avg_price': [round(avg_price, 2)]\n",
    "})\n",
    "\n",
    "print(review_dates)\n"
   ]
  }
 ],
 "metadata": {
  "kernelspec": {
   "display_name": "Python 3",
   "language": "python",
   "name": "python3"
  },
  "language_info": {
   "codemirror_mode": {
    "name": "ipython",
    "version": 3
   },
   "file_extension": ".py",
   "mimetype": "text/x-python",
   "name": "python",
   "nbconvert_exporter": "python",
   "pygments_lexer": "ipython3",
   "version": "3.12.2"
  }
 },
 "nbformat": 4,
 "nbformat_minor": 5
}
